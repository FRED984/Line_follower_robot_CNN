{
  "nbformat": 4,
  "nbformat_minor": 0,
  "metadata": {
    "colab": {
      "provenance": [],
      "mount_file_id": "1uAMHHJx2chly1a0ILCgM36HnsERd_MUt",
      "authorship_tag": "ABX9TyNLcSrgkFjXpBPEdXVu2sJc",
      "include_colab_link": true
    },
    "kernelspec": {
      "name": "python3",
      "display_name": "Python 3"
    },
    "language_info": {
      "name": "python"
    }
  },
  "cells": [
    {
      "cell_type": "markdown",
      "metadata": {
        "id": "view-in-github",
        "colab_type": "text"
      },
      "source": [
        "<a href=\"https://colab.research.google.com/github/FRED984/Line_follower_robot_CNN/blob/main/CNN_line_follower_robot.ipynb\" target=\"_parent\"><img src=\"https://colab.research.google.com/assets/colab-badge.svg\" alt=\"Open In Colab\"/></a>"
      ]
    },
    {
      "cell_type": "code",
      "execution_count": null,
      "metadata": {
        "id": "aG1xZLFFVtBT"
      },
      "outputs": [],
      "source": [
        "#packages\n",
        "from keras.models import Sequential\n",
        "from keras.layers.convolutional  import Conv2D, MaxPooling2D\n",
        "from keras.layers.core import Activation, Flatten, Dense\n",
        "import numpy as np\n",
        "import argparse\n",
        "import cv2\n",
        "import os\n",
        "import matplotlib\n",
        "\n",
        "\n",
        "class LeNet :\n",
        "    @staticmethod\n",
        "    def build(width,height, depth, classes):\n",
        "        #initialization du model\n",
        "        model = Sequential()\n",
        "        inputShape = (height, width , depth)\n",
        "\n",
        "\n",
        "        #1ere couche conv=>RELU=> Pool\n",
        "\n",
        "        model.add(Conv2D(20, (5,5), padding=\"same\", input_shape=inputShape))#nb filtre:20,taille filtre:5,5 ,padding:same,taille entree:parametre fonction\n",
        "        model.add(Activation(\"relu\"))#fonction d'activation Relu\n",
        "        model.add(MaxPooling2D(pool_size=(2, 2), strides=(2, 2)))#pool:max ,taile filtre pooling:2,2;pas:2,2\n",
        "\n",
        "        #2e couche\n",
        "        model.add(Conv2D(50, (5,5), padding=\"same\", input_shape=inputShape))#meme sauf nbre de filtre :50\n",
        "        model.add(Activation(\"relu\"))#meme\n",
        "        model.add(MaxPooling2D(pool_size=(2, 2), strides=(2, 2)))#meme que premier\n",
        "\n",
        "        #couche fully connected\n",
        "        model.add(Flatten())\n",
        "        model.add(Dense(500))\n",
        "        model.add(Activation(\"relu\"))\n",
        "\n",
        "        #softmax classifier\n",
        "        model.add(Dense(classes))#fonction de classification Softmax\n",
        "        model.add(Activation(\"softmax\"))\n",
        "\n",
        "        # return\n",
        "        return model"
      ]
    },
    {
      "cell_type": "markdown",
      "source": [
        "Loading the image to the model"
      ],
      "metadata": {
        "id": "sF7eEl9Zd1QE"
      }
    },
    {
      "cell_type": "code",
      "source": [
        "from imutils import paths\n",
        "import random\n",
        "from sklearn.model_selection import train_test_split\n",
        "from keras.utils import to_categorical\n",
        "from tensorflow.keras.utils import img_to_array\n",
        "\n",
        "\n",
        "\n"
      ],
      "metadata": {
        "id": "F-qBGlFsxkR6"
      },
      "execution_count": null,
      "outputs": []
    },
    {
      "cell_type": "code",
      "source": [
        "#path of the image\n",
        "dataset ='/content/drive/MyDrive/Colab Notebooks/train'\n",
        "\n",
        "#initialisation des donées\n",
        "print(\"[Info] loading images...\")\n",
        "data=[]\n",
        "labels= []\n",
        "\n",
        "#shuffle des images\n",
        "imagePaths = sorted(list(paths.list_images(dataset)))\n",
        "random.seed(42)\n",
        "random.shuffle(imagePaths)\n",
        "#dataset split\n",
        "trainX=[]\n",
        "trainY=[]\n",
        "testX=[]\n",
        "testY=[]\n",
        "\n",
        "for imagePath in imagePaths:\n",
        "    image =cv2.imread(imagePath)\n",
        "    image =cv2.resize(image,(28,28))\n",
        "    image = img_to_array(image)\n",
        "    data.append(image)\n",
        "    label = imagePath.split(os.path.sep)[-2]\n",
        "    print(label)\n",
        "    if label == 'forwad':\n",
        "        label =0\n",
        "    elif label == 'right' :\n",
        "        label = 1\n",
        "    else:\n",
        "        label =2\n",
        "    labels.append(label)\n",
        "\n",
        "\n",
        "data = np.array(data, dtype=\"float\") / 255.0\n",
        "labels = np.array(labels)\n",
        "#partage des datas sous forme de tableau numpy  entre trainX,trainY,testX,testY\n",
        "trainX, testX, trainY, testY= train_test_split(data, labels, test_size=0.3, random_state=42)\n",
        "trainY = to_categorical(trainY, num_classes=3)\n",
        "testY = to_categorical(testY, num_classes=3)\n",
        "\n",
        "\n",
        "\n",
        "\n",
        "\n"
      ],
      "metadata": {
        "colab": {
          "base_uri": "https://localhost:8080/"
        },
        "id": "eKRuUl0fXZMl",
        "outputId": "aac6242e-9eb2-4489-a331-d73517855fff"
      },
      "execution_count": null,
      "outputs": [
        {
          "output_type": "stream",
          "name": "stdout",
          "text": [
            "[Info] loading images...\n",
            "left\n",
            "right\n",
            "forward\n",
            "forward\n",
            "left\n",
            "forward\n",
            "forward\n",
            "forward\n",
            "right\n",
            "forward\n",
            "right\n",
            "forward\n",
            "right\n",
            "left\n",
            "right\n",
            "forward\n",
            "right\n",
            "forward\n",
            "forward\n",
            "left\n",
            "right\n",
            "backward\n",
            "left\n",
            "forward\n",
            "forward\n",
            "right\n",
            "right\n",
            "right\n",
            "forward\n",
            "forward\n",
            "forward\n",
            "forward\n",
            "left\n",
            "forward\n",
            "forward\n",
            "forward\n",
            "right\n",
            "backward\n",
            "forward\n",
            "forward\n",
            "forward\n",
            "forward\n",
            "forward\n",
            "forward\n",
            "forward\n",
            "forward\n",
            "left\n",
            "right\n",
            "forward\n",
            "left\n",
            "forward\n",
            "right\n",
            "forward\n",
            "forward\n",
            "left\n",
            "left\n",
            "backward\n",
            "left\n",
            "left\n",
            "right\n",
            "forward\n",
            "right\n",
            "right\n",
            "left\n",
            "forward\n",
            "right\n",
            "right\n",
            "forward\n",
            "forward\n",
            "right\n",
            "right\n",
            "backward\n",
            "left\n",
            "forward\n",
            "right\n",
            "forward\n",
            "forward\n",
            "forward\n",
            "forward\n",
            "forward\n",
            "backward\n",
            "forward\n",
            "right\n"
          ]
        }
      ]
    },
    {
      "cell_type": "markdown",
      "source": [
        "training the model"
      ],
      "metadata": {
        "id": "jpG7oCT_d72K"
      }
    },
    {
      "cell_type": "code",
      "source": [
        "from keras import backend  as K\n",
        "from keras.preprocessing.image import ImageDataGenerator\n",
        "from keras.optimizers import Adam"
      ],
      "metadata": {
        "id": "AxNB_BENrcSO"
      },
      "execution_count": null,
      "outputs": []
    },
    {
      "cell_type": "code",
      "source": [
        "from keras.callbacks import History\n",
        "EPOCHS = 15\n",
        "INIT_LR = 1e-3\n",
        "BS = 32\n",
        "\n",
        "\n",
        "#initialisation du model\n",
        "print(\"[INFO] compiling model...\")\n",
        "modele = LeNet.build(width=28, height=28, depth=3, classes=3)\n",
        "opt = Adam(lr=INIT_LR, decay=INIT_LR / EPOCHS)#algorithme d'optimisaton Adam\n",
        "modele.compile(loss=\"binary_crossentropy\", optimizer=opt, metrics=[\"accuracy\"])\n",
        "\n",
        "#train the  network\n",
        "print(\"[INFO] training network ...\")\n",
        "History= modele.fit(trainX, trainY,batch_size=BS ,epochs=EPOCHS, verbose=1)\n",
        "\n",
        "#save the model to disk\n",
        "print(\"[INFO] serializing network...\")\n"
      ],
      "metadata": {
        "colab": {
          "base_uri": "https://localhost:8080/"
        },
        "id": "Y-2S_zjYXt3I",
        "outputId": "708964c1-73fc-413c-d31e-fc1d9a7c48dc"
      },
      "execution_count": null,
      "outputs": [
        {
          "output_type": "stream",
          "name": "stdout",
          "text": [
            "[INFO] compiling model...\n",
            "[INFO] training network ...\n",
            "Epoch 1/15\n"
          ]
        },
        {
          "output_type": "stream",
          "name": "stderr",
          "text": [
            "/usr/local/lib/python3.8/dist-packages/keras/optimizers/optimizer_v2/adam.py:110: UserWarning: The `lr` argument is deprecated, use `learning_rate` instead.\n",
            "  super(Adam, self).__init__(name, **kwargs)\n"
          ]
        },
        {
          "output_type": "stream",
          "name": "stdout",
          "text": [
            "2/2 [==============================] - 1s 83ms/step - loss: 0.5553 - accuracy: 0.4828\n",
            "Epoch 2/15\n",
            "2/2 [==============================] - 0s 80ms/step - loss: 0.3554 - accuracy: 0.7241\n",
            "Epoch 3/15\n",
            "2/2 [==============================] - 0s 75ms/step - loss: 0.2620 - accuracy: 0.9310\n",
            "Epoch 4/15\n",
            "2/2 [==============================] - 0s 77ms/step - loss: 0.1614 - accuracy: 0.9310\n",
            "Epoch 5/15\n",
            "2/2 [==============================] - 0s 69ms/step - loss: 0.0896 - accuracy: 0.9828\n",
            "Epoch 6/15\n",
            "2/2 [==============================] - 0s 81ms/step - loss: 0.0394 - accuracy: 1.0000\n",
            "Epoch 7/15\n",
            "2/2 [==============================] - 0s 74ms/step - loss: 0.0260 - accuracy: 0.9828\n",
            "Epoch 8/15\n",
            "2/2 [==============================] - 0s 84ms/step - loss: 0.0107 - accuracy: 1.0000\n",
            "Epoch 9/15\n",
            "2/2 [==============================] - 0s 94ms/step - loss: 0.0090 - accuracy: 1.0000\n",
            "Epoch 10/15\n",
            "2/2 [==============================] - 0s 67ms/step - loss: 0.0042 - accuracy: 1.0000\n",
            "Epoch 11/15\n",
            "2/2 [==============================] - 0s 67ms/step - loss: 0.0019 - accuracy: 1.0000\n",
            "Epoch 12/15\n",
            "2/2 [==============================] - 0s 70ms/step - loss: 0.0023 - accuracy: 1.0000\n",
            "Epoch 13/15\n",
            "2/2 [==============================] - 0s 68ms/step - loss: 8.7863e-04 - accuracy: 1.0000\n",
            "Epoch 14/15\n",
            "2/2 [==============================] - 0s 73ms/step - loss: 2.3815e-04 - accuracy: 1.0000\n",
            "Epoch 15/15\n",
            "2/2 [==============================] - 0s 70ms/step - loss: 1.8634e-04 - accuracy: 1.0000\n",
            "[INFO] serializing network...\n"
          ]
        }
      ]
    },
    {
      "cell_type": "code",
      "source": [
        "y_pred = modele.predict(testX)"
      ],
      "metadata": {
        "colab": {
          "base_uri": "https://localhost:8080/"
        },
        "id": "icPpeMYgxeCx",
        "outputId": "82ebf8fa-8e54-4191-acb5-496fb86a22f4"
      },
      "execution_count": null,
      "outputs": [
        {
          "output_type": "stream",
          "name": "stdout",
          "text": [
            "1/1 [==============================] - 0s 127ms/step\n"
          ]
        }
      ]
    },
    {
      "cell_type": "code",
      "source": [
        "result = modele.evaluate(testX, testY, verbose=1)\n",
        "\n",
        "accuracy = result[1]\n",
        "\n",
        "print(f\"La précision de notre modèle est de {round(accuracy*100,2)} %\")"
      ],
      "metadata": {
        "colab": {
          "base_uri": "https://localhost:8080/"
        },
        "id": "Ua7d92qtyTFz",
        "outputId": "4d48d350-423c-4fde-c8bd-94cc83d3a0b2"
      },
      "execution_count": null,
      "outputs": [
        {
          "output_type": "stream",
          "name": "stdout",
          "text": [
            "1/1 [==============================] - 0s 187ms/step - loss: 2.2962e-04 - accuracy: 1.0000\n",
            "La précision de notre modèle est de 100.0 %\n"
          ]
        }
      ]
    }
  ]
}